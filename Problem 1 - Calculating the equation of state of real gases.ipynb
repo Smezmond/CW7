{
 "cells": [
  {
   "cell_type": "markdown",
   "metadata": {},
   "source": [
    "## Calculating the equation of state of real gases\n",
    "\n",
    "_Record all your answers in the Self Assessment form, available on the Minerva. Alternatively, you can create a new text document in Jupyter to record your answers. This can then be downloaded and transferred into the Self Assessment form at a later time._ "
   ]
  },
  {
   "cell_type": "markdown",
   "metadata": {},
   "source": [
    "__Monte Carlo Methods for Integration__\n",
    "\n",
    "The direct Monte Carlo method is the simplest of all Monte Carlo methods to numerically integrate a function. The area corresponding to the integral is calculated by repeatedly guessing pairs of x and y values at random and evaluating a function y = f(x) to see if y lies within the area bound by the integral or not. The ration of guesses inside/under the curves to the total number of guesses is proportional to the integral. The more guesses that are made, the closer the answer becomes to the true value. \n",
    "\n",
    "In general the integral is $Q = \\int_a^b \\! f(x) \\, \\mathrm{d}x$. Two uniform distributed random numbers are chosen; $R_{y}$ between limits f(c) and f(d), where the points c and d must be chosen to include the minimum and maximum of the function in the range a and b. A large number of pairs of points are generated, those for which $R_{y} \\leq f(R_{x})$ are found and counted up. The integral is approximated as:\n",
    "$$(\\frac{number of guesses under curve}{total number of guesses}) \\times A$$\n",
    "Where A is the integration area within all points fall.\n",
    "\n",
    "_Below is an example Monte Carlo loop to approximate the integral of f(x) = $x^2$_\n"
   ]
  },
  {
   "cell_type": "code",
   "execution_count": null,
   "metadata": {},
   "outputs": [],
   "source": [
    "import numpy as np\n",
    "\n",
    "def f(x): #define function\n",
    "    return(x**2) \n",
    "\n",
    "n = 20000 #number of guesses\n",
    "xlim1 = 1.0  #x limits\n",
    "xlim2 = 2.0\n",
    "ymax = f(2) #max y, min zero\n",
    "s = 0 #variable for sum\n",
    "A = (xlim2-xlim1)*ymax #area A\n",
    "\n",
    "for i in range(1,n):\n",
    "    Rx = (xlim2-xlim1)*np.random.rand() + xlim1 #Rx random number\n",
    "    Ry = ymax*np.random.rand() #Ry random number\n",
    "    \n",
    "    if Ry <= f(Rx):\n",
    "        s += 1 #make sum\n",
    "\n",
    "av_f = A*s/n #estimate integral\n",
    "        \n"
   ]
  },
  {
   "cell_type": "markdown",
   "metadata": {},
   "source": [
    "__Your tasks__ \n",
    "\n",
    "_Using the equations given in the handout_\n",
    "\n",
    "* Plot _U(r)_ and _f(r)_\n",
    "* Calculate $B_{2}$ using the direct Monte Carlo method\n",
    "* Check your result by using the numerical integration routine of Python\n",
    "* Compare your result for $B_{2}$ to the literature\n",
    "* What determines the accuracy of your result?\n",
    "* What is the molar volume of $H_{e(g)}$ at 600K and 600 bar according to the (a) ideal gas equation and (b) the virial equation? \n",
    "\n",
    "__Comment:__\n",
    "\n",
    "_To compare the effect of $B_{2}$ on ideal behaviour, the compressibility factor Z is often plotted versus P. Such plots can be often found in first year chemistry/physics text books, see e.g. Atkins \"Physical Chemistry\", chapter one on \"Properties of Real Gases\"._\n",
    "\n",
    "___Write your code in the cell below___"
   ]
  },
  {
   "cell_type": "code",
   "execution_count": null,
   "metadata": {},
   "outputs": [],
   "source": [
    "#Use this cell (and any others you may need) to complete your tasks"
   ]
  },
  {
   "cell_type": "markdown",
   "metadata": {},
   "source": [
    "__Table of molecules with corresponding parameter values used in Lennard-Jones potential__\n",
    "\n",
    "| Gas atom/molecule        | $\\sigma$ (in angstroms)        | $\\varepsilon$ (in joules)  |\n",
    "| ------------------------ |:------------------------------:| --------------------------:|\n",
    "| $H_{e}$                  | 2.56                           | $1.41 \\times 10^-22$       |\n",
    "| $N_{2}$                  | 3.75                           | $1.32 \\times 10^-22$       |\n",
    "| $A_{r}$                  | 3.4                            | $1.65 \\times 10^-22$       |\n",
    "| $X_{e}$                  | 4.07                           | $3.11 \\times 10^-22$       |"
   ]
  },
  {
   "cell_type": "markdown",
   "metadata": {},
   "source": [
    "_You can save the work you have done as a python file for future reference. To do so, go into `File, Download as, Python`._"
   ]
  }
 ],
 "metadata": {
  "kernelspec": {
   "display_name": "Python 3",
   "language": "python",
   "name": "python3"
  },
  "language_info": {
   "codemirror_mode": {
    "name": "ipython",
    "version": 3
   },
   "file_extension": ".py",
   "mimetype": "text/x-python",
   "name": "python",
   "nbconvert_exporter": "python",
   "pygments_lexer": "ipython3",
   "version": "3.6.5"
  }
 },
 "nbformat": 4,
 "nbformat_minor": 2
}
