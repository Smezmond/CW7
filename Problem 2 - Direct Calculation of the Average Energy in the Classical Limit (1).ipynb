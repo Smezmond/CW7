{
 "cells": [
  {
   "cell_type": "markdown",
   "metadata": {},
   "source": [
    "## Direct Calculation of the Average Energy in the Classical Limit\n",
    "\n",
    "_Record all your answers in the Self Assessment form, available on the Minerva. Alternatively, you can create a new text document in Jupyter to record your answers. This can then be downloaded and transferred into the Self Assessment form at a later time._ "
   ]
  },
  {
   "cell_type": "markdown",
   "metadata": {},
   "source": [
    "__Workshop on Metropolis Algorithm of the Harmonic Oscillator__\n",
    "\n",
    "The harmonic oscillator with force constant $k_{f}$ has potential energy $ V = k_{f}x^2 / 2 $ at displacement $x$ from its minimum energy. To make the calculation classical, many energy levels must be populated at temperature T. This implies that a very high temperature or a very small force constant should be used such that $k_{f}/T$ is small, for example 0.05. A temperature of 300K and $k_{f} = 10 Nm^-1$ is used. This force constant is far smaller than that for many molecules although alkali metal dimers do have small force constants.\n",
    "\n",
    "To calculate the average energy, random guess of the values of the displacement are made. To allow complete sampling of the distribution, the maximum displacement must be large enough to make $e^-(V/kT)$ small, $10^-8$ or less. In addition, the range of $x$ must be positive as well as negative, and the random number generator must ensure this. If this is not done, then microscopic reversibility is not achieved because not all the possible configurations, in this case bond extension, can be sampled. "
   ]
  },
  {
   "cell_type": "code",
   "execution_count": null,
   "metadata": {},
   "outputs": [],
   "source": [
    "import numpy as np\n",
    "\n",
    "N = 20000  #number of samples\n",
    "deltax = 0.15  #max displacement nm\n",
    "nm = 10**(-9)  #nanometres\n",
    "kf = 1.381*10**(-23) #Boltzmann const Jm^-2K^-1\n",
    "T = 300.0  #Temperature K\n",
    "kt= k*T  #Initial thermal energy\n",
    "kf = 10.0  #Force const Nm^-1\n",
    "\n",
    "def V(x):  #Potential energy kg m^2 s^-2\n",
    "    v = (kf*(x**2)*(nm**2))/2\n",
    "    return(v)\n",
    "\n",
    "Etot = 0.0 #initial energy <E>\n",
    "E2tot = 0.0 #Initial <E^2>\n",
    "\n",
    "x1 = 0.0 #first guess of energy in nm\n",
    "E1 = V(x1) #first guess of energy\n",
    "\n",
    "for i in range(1,N): #start loop step (2)\n",
    "    x2 = x1 + (np.random.rand())*deltax  #new x position, consider ergodicity\n",
    "    E2 = V(x2) #new potential energy\n",
    "    deltaE = E2 - E1 #energy difference\n",
    "    \n",
    "    #next line is Metropolis sampling\n",
    "    \n",
    "    if deltaE <= 0.0:\n",
    "        x1 = x2  #save new configuration\n",
    "        E1 = E2  #save new energy\n",
    "    \n",
    "    elif deltaE > 0.0:\n",
    "        if np.exp(-deltaE/kt) > np.random.rand():\n",
    "            x1 = x2\n",
    "            E1 = E2\n",
    "    \n",
    "    Etot = E1 #always add to total <E>\n",
    "    E2tot = E2tot + E1**2  #add to total <E^2>\n",
    "    \n",
    "#averaging step\n",
    "\n",
    "Eav = (Etot)\n",
    "E2av = (E2tot/N)\n",
    "CV = (E2av - Eav**2)/(k*T**2)\n",
    "\n",
    "print(Eav)"
   ]
  },
  {
   "cell_type": "markdown",
   "metadata": {},
   "source": [
    "_Please note that there are (about four minor) mistakes in the code above that you need to find! The Python script will still run._\n",
    "\n",
    "__Average potential energy and heat capacity__\n",
    "\n",
    "A typical calculation produces $2.05 \\times 10^-21 J$ for the average potential energy (Eav, see Python code), $1.27 \\times 10^-41 J^2$ for its square (E2av), and $6.88 \\times 10^-24 JK^-1$ for the heat capacity (Cv). These will vary slightly each time the calculation is run, but when the number of trials is large, about 20000, they are always close to the theoretical values (per molecule) which are $\\langle E \\rangle = 2.07 \\times 10^-21 J$ , $\\langle E^2 \\rangle = 1.28 \\times 10^-41 J^2$, and $ C_{v} = 6.90 \\times 10^-24 JK^-1$ at 300K.\n",
    "\n",
    "Note that in this implementation and only for simplicity, adding $E1$, $E1^2$ , $x1$ or $x1^2$ to their respective totals starts immediately without allowing the random walk to come close to its equilibrium value, which takes several hundred steps. This introduces an error, but as the number of Monte-Carlo steps is large at 20000, the error is small."
   ]
  },
  {
   "cell_type": "markdown",
   "metadata": {},
   "source": [
    "__Task 1: Average energy and heat capacity__\n",
    "\n",
    "__a)__ The Python code above is essentially structured in four parts: 1. Initialisation, 2. Monte Carlo loop, 3. \n",
    "Data calculation, and 4. Analysis. Indicate these four parts in the code above.\n",
    "\n",
    "__b)__ State what are the mistakes in the Monte Carlo code above.\n",
    "\n",
    "__c)__ Use the Monte Carlo code to calculate the average energy, the average square energy, and the heat capacity of the harmonic oscillator.\n",
    "\n",
    "__d)__ Verify that the theoretical value of the average potential energy is E= 2.07×10^-21J. To do this you need to use Eq. (5) and perform both integrals using the numerical integration routine in Python or the direct Monte Carlo method you have used in problem 1."
   ]
  },
  {
   "cell_type": "markdown",
   "metadata": {},
   "source": [
    "__Task 2: Average displacement__ \n",
    "\n",
    "The average displacement can be calculated by adding the lines below in to the loop after 'E2tot =...' and remembering to define and det the new variables to zero at the start of the calculation.\n",
    "\n",
    "__a)__ What is the typical value for <x> = xtot/N? Why is this result expected?\n",
    "\n",
    "__b)__ What is the typical value for <x^2> = x2tot/N? How does the results compare to the theoretical value of kT/kf = 0.00041 nm^2?"
   ]
  },
  {
   "cell_type": "code",
   "execution_count": null,
   "metadata": {},
   "outputs": [],
   "source": [
    "xtot = xtot + x1 #add to total <x>\n",
    "x2tot = x2tot + x1**2 #add to total <x^2>"
   ]
  },
  {
   "cell_type": "markdown",
   "metadata": {},
   "source": [
    "__Task 3: Understanding__ \n",
    "\n",
    "Explain why Metropolis Monte Carlo method works, in particular why and how only important contributions to the statistical average are obtaining in the simulations?"
   ]
  },
  {
   "cell_type": "markdown",
   "metadata": {},
   "source": [
    "_You can save the work you have done as a python file for future reference. To do so, go into `File, Download as, Python`._"
   ]
  }
 ],
 "metadata": {
  "kernelspec": {
   "display_name": "Python 3",
   "language": "python",
   "name": "python3"
  },
  "language_info": {
   "codemirror_mode": {
    "name": "ipython",
    "version": 3
   },
   "file_extension": ".py",
   "mimetype": "text/x-python",
   "name": "python",
   "nbconvert_exporter": "python",
   "pygments_lexer": "ipython3",
   "version": "3.6.5"
  }
 },
 "nbformat": 4,
 "nbformat_minor": 2
}
